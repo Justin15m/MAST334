{
 "cells": [
  {
   "cell_type": "code",
   "execution_count": 31,
   "id": "af20b12b",
   "metadata": {},
   "outputs": [],
   "source": [
    "# importing the required packages for the assignement\n",
    "\n",
    "from sympy.solvers import solve\n",
    "from sympy import symbols, diff, exp, Eq, ln, integrate, sin ,cos\n",
    "from sympy.solvers.solveset import linsolve\n",
    "import math\n",
    "import numpy as np"
   ]
  },
  {
   "cell_type": "markdown",
   "id": "4fae4311",
   "metadata": {},
   "source": [
    "# Chapter 8.1"
   ]
  },
  {
   "cell_type": "markdown",
   "id": "e3ca5be4",
   "metadata": {},
   "source": [
    "## Question 5 "
   ]
  },
  {
   "cell_type": "code",
   "execution_count": 3,
   "id": "77c5691e",
   "metadata": {},
   "outputs": [],
   "source": [
    "a0,a1,a2,a3,a4,x=symbols('a0,a1,a2,a3,a4,x')"
   ]
  },
  {
   "cell_type": "code",
   "execution_count": 4,
   "id": "637e63a6",
   "metadata": {},
   "outputs": [],
   "source": [
    "X=np.array([4,4.2,4.5,4.7,5.1,5.5,5.9,6.3,6.8,7.1])\n",
    "Y=np.array([102.56,113.18,130.11,142.05,167.53,195.14,224.87,256.73,299.50,326.72])"
   ]
  },
  {
   "cell_type": "markdown",
   "id": "182c2b69",
   "metadata": {},
   "source": [
    "### part a"
   ]
  },
  {
   "cell_type": "code",
   "execution_count": 5,
   "id": "47710b0a",
   "metadata": {},
   "outputs": [],
   "source": [
    "EQ1=Eq(len(X)*a0+sum(X)*a1,sum(Y))\n",
    "EQ2=Eq(sum(X)*a0+sum(X**2)*a1,sum(Y*X))\n"
   ]
  },
  {
   "cell_type": "code",
   "execution_count": 6,
   "id": "63d1f8f0",
   "metadata": {},
   "outputs": [],
   "source": [
    "Solution= linsolve((EQ1,EQ2), (a0, a1))"
   ]
  },
  {
   "cell_type": "code",
   "execution_count": 7,
   "id": "08ce1bba",
   "metadata": {},
   "outputs": [
    {
     "data": {
      "text/latex": [
       "$\\displaystyle \\left\\{\\left( -194.138240732093, \\  72.0845176953962\\right)\\right\\}$"
      ],
      "text/plain": [
       "{(-194.138240732093, 72.0845176953962)}"
      ]
     },
     "execution_count": 7,
     "metadata": {},
     "output_type": "execute_result"
    }
   ],
   "source": [
    "Solution"
   ]
  },
  {
   "cell_type": "code",
   "execution_count": 16,
   "id": "5c161a0c",
   "metadata": {},
   "outputs": [
    {
     "data": {
      "text/plain": [
       "np.float64(329.0131930338981)"
      ]
     },
     "execution_count": 16,
     "metadata": {},
     "output_type": "execute_result"
    }
   ],
   "source": [
    "y=[]\n",
    "for x in X:\n",
    "    y.append(-194.138240732093+x*72.0845176953962)\n",
    "sum((Y-y)**2)"
   ]
  },
  {
   "cell_type": "markdown",
   "id": "d4ed0842",
   "metadata": {},
   "source": [
    "### part b"
   ]
  },
  {
   "cell_type": "code",
   "execution_count": 9,
   "id": "778876b7",
   "metadata": {},
   "outputs": [],
   "source": [
    "EQ1=Eq(len(X)*a0+sum(X)*a1+sum(X**2)*a2,sum(Y))\n",
    "EQ2=Eq(sum(X)*a0+sum(X**2)*a1+sum(X**3)*a2,sum(Y*X))\n",
    "EQ3=Eq(sum(X**2)*a0+sum(X**3)*a1+sum(X**4)*a2,sum(Y*X**2))"
   ]
  },
  {
   "cell_type": "code",
   "execution_count": 10,
   "id": "3bab0e88",
   "metadata": {},
   "outputs": [],
   "source": [
    "Solution= linsolve((EQ1,EQ2,EQ3), (a0, a1,a2))"
   ]
  },
  {
   "cell_type": "code",
   "execution_count": 11,
   "id": "81d4a080",
   "metadata": {},
   "outputs": [
    {
     "data": {
      "text/latex": [
       "$\\displaystyle \\left\\{\\left( 1.23556036988452, \\  -1.14352336836752, \\  6.61821091838834\\right)\\right\\}$"
      ],
      "text/plain": [
       "{(1.23556036988452, -1.14352336836752, 6.61821091838834)}"
      ]
     },
     "execution_count": 11,
     "metadata": {},
     "output_type": "execute_result"
    }
   ],
   "source": [
    "Solution"
   ]
  },
  {
   "cell_type": "code",
   "execution_count": 12,
   "id": "2787ff43",
   "metadata": {},
   "outputs": [
    {
     "data": {
      "text/plain": [
       "np.float64(0.0014429128859310358)"
      ]
     },
     "execution_count": 12,
     "metadata": {},
     "output_type": "execute_result"
    }
   ],
   "source": [
    "y=[]\n",
    "for x in X:\n",
    "    y.append(1.23556036988452+x*-1.14352336836752+6.61821091838834*x**2)\n",
    "sum((Y-y)**2)"
   ]
  },
  {
   "cell_type": "markdown",
   "id": "272be39e",
   "metadata": {},
   "source": [
    "### part c"
   ]
  },
  {
   "cell_type": "code",
   "execution_count": 13,
   "id": "1c56aa10",
   "metadata": {},
   "outputs": [],
   "source": [
    "EQ1=Eq(len(X)*a0+sum(X)*a1+sum(X**2)*a2+sum(X**3)*a3,sum(Y))\n",
    "EQ2=Eq(sum(X)*a0+sum(X**2)*a1+sum(X**3)*a2+sum(X**4)*a3,sum(Y*X))\n",
    "EQ3=Eq(sum(X**2)*a0+sum(X**3)*a1+sum(X**4)*a2+sum(X**5)*a3,sum(Y*X**2))\n",
    "EQ4=Eq(sum(X**3)*a0+sum(X**4)*a1+sum(X**5)*a2+sum(X**6)*a3,sum(Y*X**3))"
   ]
  },
  {
   "cell_type": "code",
   "execution_count": 18,
   "id": "9c0b6f71",
   "metadata": {},
   "outputs": [
    {
     "data": {
      "text/latex": [
       "$\\displaystyle \\left\\{\\left( 3.42909438372377, \\  -2.37922111083803, \\  6.84557776902364, \\  -0.0136745636853665\\right)\\right\\}$"
      ],
      "text/plain": [
       "{(3.42909438372377, -2.37922111083803, 6.84557776902364, -0.0136745636853665)}"
      ]
     },
     "execution_count": 18,
     "metadata": {},
     "output_type": "execute_result"
    }
   ],
   "source": [
    "Solution= linsolve((EQ1,EQ2,EQ3,EQ4), (a0, a1,a2,a3))\n",
    "Solution"
   ]
  },
  {
   "cell_type": "code",
   "execution_count": 20,
   "id": "51125aea",
   "metadata": {},
   "outputs": [
    {
     "data": {
      "text/plain": [
       "np.float64(0.0005273412030583573)"
      ]
     },
     "execution_count": 20,
     "metadata": {},
     "output_type": "execute_result"
    }
   ],
   "source": [
    "y=[]\n",
    "for x in X:\n",
    "    y.append(3.42909438372377+x*-2.37922111083803+6.84557776902364*x**2-0.0136745636853665*x**3)\n",
    "sum((Y-y)**2)"
   ]
  },
  {
   "cell_type": "markdown",
   "id": "ba92920c",
   "metadata": {},
   "source": [
    "## Question 14"
   ]
  },
  {
   "cell_type": "code",
   "execution_count": 21,
   "id": "c2d9df4e",
   "metadata": {},
   "outputs": [],
   "source": [
    "x1,x2,xm,n=symbols('x1,x2,xm,n')"
   ]
  },
  {
   "cell_type": "markdown",
   "id": "2187284b",
   "metadata": {},
   "source": [
    "the normal equations are AT*A*c=AT*y the A matrix is "
   ]
  },
  {
   "cell_type": "code",
   "execution_count": 28,
   "id": "b87d2dd5",
   "metadata": {},
   "outputs": [
    {
     "data": {
      "text/plain": [
       "array([[1, x1, x1**2, x1**n],\n",
       "       [1, x2, x2**2, x2**n],\n",
       "       [1, xm, xm**2, xm**n]], dtype=object)"
      ]
     },
     "execution_count": 28,
     "metadata": {},
     "output_type": "execute_result"
    }
   ],
   "source": [
    "A=np.array([[1,x1,x1**2,x1**n],\n",
    "            [1,x2,x2**2,x2**n],\n",
    "            [1,xm,xm**2,xm**n]])\n",
    "A"
   ]
  },
  {
   "cell_type": "markdown",
   "id": "f868628e",
   "metadata": {},
   "source": [
    "normal matrix is M=AT*A\n",
    "thus M=sum(k=1 to m)x**(i-1)*x**(j-1)\n",
    "then if we simplify x**(i-1)*x**(j-1)=x**i+j-2 and shows that aij and aji are the same thus we have symmetry "
   ]
  },
  {
   "cell_type": "markdown",
   "id": "87331315",
   "metadata": {},
   "source": [
    "lets prove singularity by contradiction if we assume M is singular than there exist c!=0 such that M*c=0 which means we have aij*cj=0 and aij is sum(k=1 to m)x*(i+j-2) thus we get sum(k=1to m )sum(i=0 to n) sum(j=0to n) x**(i+j-2)*cj where x**(i+j-2)*cj=p(xk) this would imply that we have a polynomial of degree 0 which contradicts the condition that it is at least one thus M is not singular which implies that there exist a unique solution c for the normal equations"
   ]
  },
  {
   "cell_type": "markdown",
   "id": "a1e588db",
   "metadata": {},
   "source": [
    "# Chapter 8.2"
   ]
  },
  {
   "cell_type": "markdown",
   "id": "3ddb52a5",
   "metadata": {},
   "source": [
    "## Question 2e"
   ]
  },
  {
   "cell_type": "code",
   "execution_count": 49,
   "id": "08d5f119",
   "metadata": {},
   "outputs": [],
   "source": [
    "a0,a1,x,y=symbols('a0,a1,x,y')"
   ]
  },
  {
   "cell_type": "code",
   "execution_count": 55,
   "id": "fed14ace",
   "metadata": {},
   "outputs": [],
   "source": [
    "o1,o2=symbols('o1,o2')"
   ]
  },
  {
   "cell_type": "code",
   "execution_count": 67,
   "id": "320fbe91",
   "metadata": {},
   "outputs": [],
   "source": [
    "a0=integrate(1*(1/2*cos(x)+1/3*sin(2*x)),(x,-1,1))/integrate(1,(x,-1,1))\n",
    "B1=integrate(x*1**2,(x,-1,1))/integrate(1,(x,-1,1))\n",
    "a1=integrate((x-B1)*(1/2*cos(x)+1/3*sin(2*x)),(x,-1,1))/integrate((x-B1)**2,(x,-1,1))"
   ]
  },
  {
   "cell_type": "code",
   "execution_count": 69,
   "id": "a0803e1f",
   "metadata": {},
   "outputs": [
    {
     "data": {
      "text/latex": [
       "$\\displaystyle - x \\left(- 0.5 \\cos{\\left(2 \\right)} + 0.25 \\sin{\\left(2 \\right)}\\right) + 0.5 \\sin{\\left(1 \\right)} = y$"
      ],
      "text/plain": [
       "Eq(-x*(-0.5*cos(2) + 0.25*sin(2)) + 0.5*sin(1), y)"
      ]
     },
     "execution_count": 69,
     "metadata": {},
     "output_type": "execute_result"
    }
   ],
   "source": [
    "Eq(a0-a1*x,y)"
   ]
  },
  {
   "cell_type": "markdown",
   "id": "32ad23cc",
   "metadata": {},
   "source": [
    "## Question 6e"
   ]
  },
  {
   "cell_type": "code",
   "execution_count": 74,
   "id": "de1becb5",
   "metadata": {},
   "outputs": [
    {
     "data": {
      "text/latex": [
       "$\\displaystyle 0.0154$"
      ],
      "text/plain": [
       "0.0154"
      ]
     },
     "execution_count": 74,
     "metadata": {},
     "output_type": "execute_result"
    }
   ],
   "source": [
    "E=integrate(((1/2*cos(x)+1/3*sin(2*x))-(a0*1+a1*x))**2,(x,-1,1))\n",
    "E.round(4)"
   ]
  }
 ],
 "metadata": {
  "kernelspec": {
   "display_name": "Box",
   "language": "python",
   "name": "python3"
  },
  "language_info": {
   "codemirror_mode": {
    "name": "ipython",
    "version": 3
   },
   "file_extension": ".py",
   "mimetype": "text/x-python",
   "name": "python",
   "nbconvert_exporter": "python",
   "pygments_lexer": "ipython3",
   "version": "3.13.7"
  }
 },
 "nbformat": 4,
 "nbformat_minor": 5
}
