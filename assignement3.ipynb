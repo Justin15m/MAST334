{
 "cells": [
  {
   "cell_type": "code",
   "execution_count": 1,
   "id": "c9724bdd",
   "metadata": {},
   "outputs": [],
   "source": [
    "# importing the required packages for the assignement\n",
    "\n",
    "from sympy.solvers import solve\n",
    "from sympy import symbols, diff, exp, Eq, series,simplify, integrate, ln, cos, sin\n",
    "from sympy.solvers.solveset import linsolve\n",
    "import math\n",
    "import matplotlib.pyplot as plt\n",
    "import numpy as np"
   ]
  },
  {
   "cell_type": "code",
   "execution_count": null,
   "id": "008e6c35",
   "metadata": {},
   "outputs": [],
   "source": [
    "\n",
    "p1=1\n",
    "p0=0\n",
    "tol=1\n",
    "n=0\n",
    "while abs(tol) >=10**-5:\n",
    "    p2=p1-(ln(p1-1) + cos(p1 - 1) )*(p1-p0)/(ln(p1-1) + cos(p1 - 1)-(ln(p0-1) + cos(p0 - 1)))\n",
    "    tol=p2-p1\n",
    "    p0=p1\n",
    "    p1=p2\n",
    "    n=+1"
   ]
  }
 ],
 "metadata": {
  "kernelspec": {
   "display_name": ".venv",
   "language": "python",
   "name": "python3"
  },
  "language_info": {
   "codemirror_mode": {
    "name": "ipython",
    "version": 3
   },
   "file_extension": ".py",
   "mimetype": "text/x-python",
   "name": "python",
   "nbconvert_exporter": "python",
   "pygments_lexer": "ipython3",
   "version": "3.13.7"
  }
 },
 "nbformat": 4,
 "nbformat_minor": 5
}
