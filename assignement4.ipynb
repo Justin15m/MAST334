{
 "cells": [
  {
   "cell_type": "markdown",
   "id": "016cb02e",
   "metadata": {},
   "source": [
    "# Package imports and general information"
   ]
  },
  {
   "cell_type": "markdown",
   "id": "565f218f",
   "metadata": {},
   "source": [
    "This notebook is in a public git repo at this link https://github.com/Justin15m/MAST334"
   ]
  },
  {
   "cell_type": "code",
   "execution_count": 2,
   "id": "e98efe58",
   "metadata": {},
   "outputs": [],
   "source": [
    "# importing the required packages for the assignement\n",
    "\n",
    "from sympy.solvers import solve\n",
    "from sympy import symbols, diff, exp, Eq, ln\n",
    "from sympy.solvers.solveset import linsolve\n",
    "import math"
   ]
  },
  {
   "cell_type": "markdown",
   "id": "b782429d",
   "metadata": {},
   "source": [
    "# 3.1"
   ]
  },
  {
   "cell_type": "markdown",
   "id": "89e7521a",
   "metadata": {},
   "source": [
    "## Question 2 d"
   ]
  },
  {
   "cell_type": "code",
   "execution_count": 2,
   "id": "96f27b09",
   "metadata": {},
   "outputs": [],
   "source": [
    "# creating a definition to comptute the function\n",
    "def f(x):\n",
    "    y=exp(2*x)-x\n",
    "    return y"
   ]
  },
  {
   "cell_type": "code",
   "execution_count": 3,
   "id": "f6798217",
   "metadata": {},
   "outputs": [],
   "source": [
    "# storing the true value of y at x=1.4\n",
    "true_value=f(1.4)"
   ]
  },
  {
   "cell_type": "code",
   "execution_count": 4,
   "id": "5267fe7a",
   "metadata": {},
   "outputs": [
    {
     "data": {
      "text/latex": [
       "$\\displaystyle -3.0473435660285 + 0.6 e^{2}$"
      ],
      "text/plain": [
       "-3.0473435660285 + 0.6*exp(2)"
      ]
     },
     "execution_count": 4,
     "metadata": {},
     "output_type": "execute_result"
    }
   ],
   "source": [
    "# Interpolating the y value at x=1.4 with degree 1\n",
    "L1=(1.4-1.25)/(1-1.25)\n",
    "L2=(1.4-1)/(1.25-1)\n",
    "P=f(1)*L1+f(1.25)*L2\n",
    "abs_error=abs(true_value-P)\n",
    "abs_error"
   ]
  },
  {
   "cell_type": "code",
   "execution_count": 5,
   "id": "87b69081",
   "metadata": {},
   "outputs": [
    {
     "data": {
      "text/latex": [
       "$\\displaystyle 1.70292776357737 - 0.2 e^{2}$"
      ],
      "text/plain": [
       "1.70292776357737 - 0.2*exp(2)"
      ]
     },
     "execution_count": 5,
     "metadata": {},
     "output_type": "execute_result"
    }
   ],
   "source": [
    "# Interpolating the y valye at x=1.4 with degree 2\n",
    "L1=(1.4-1.25)/(1-1.25)*(1.4-1.6)/(1-1.6)\n",
    "L2=(1.4-1)/(1.25-1)*(1.4-1.6)/(1.25-1.6)\n",
    "L3=(1.4-1)/(1.6-1)*(1.4-1.25)/(1.6-1.25)\n",
    "P=f(1)*L1+f(1.25)*L2+f(1.6)*L3\n",
    "abs_error=abs(true_value-P)\n",
    "abs_error"
   ]
  },
  {
   "cell_type": "markdown",
   "id": "351ddcdc",
   "metadata": {},
   "source": [
    "## Question 4 D"
   ]
  },
  {
   "cell_type": "code",
   "execution_count": 6,
   "id": "fd851d04",
   "metadata": {},
   "outputs": [],
   "source": [
    "# initiliazing the variable x\n",
    "x=symbols('x')\n"
   ]
  },
  {
   "cell_type": "code",
   "execution_count": 7,
   "id": "2cd809ab",
   "metadata": {},
   "outputs": [
    {
     "data": {
      "text/latex": [
       "$\\displaystyle 1.46189927528442$"
      ],
      "text/plain": [
       "1.46189927528442"
      ]
     },
     "execution_count": 7,
     "metadata": {},
     "output_type": "execute_result"
    }
   ],
   "source": [
    "# for degree 1 (n=1)\n",
    "upper_bound= (diff(exp(2*x)-x,x,2).subs(x,1.25))*(1.4-1)*(1.4-1.25)/(math.factorial(2))\n",
    "upper_bound"
   ]
  },
  {
   "cell_type": "code",
   "execution_count": 8,
   "id": "93fd642f",
   "metadata": {},
   "outputs": [
    {
     "data": {
      "text/latex": [
       "$\\displaystyle 0.39252048315375$"
      ],
      "text/plain": [
       "0.392520483153750"
      ]
     },
     "execution_count": 8,
     "metadata": {},
     "output_type": "execute_result"
    }
   ],
   "source": [
    "# for degree 2(n=2)\n",
    "upper_bound= (diff(exp(2*x)-x,x,3).subs(x,1.6))*abs((1.4-1)*(1.4-1.25)*(1.4-1.6))/(math.factorial(3))\n",
    "upper_bound"
   ]
  },
  {
   "cell_type": "markdown",
   "id": "c244f8b0",
   "metadata": {},
   "source": [
    "## Question 17"
   ]
  },
  {
   "cell_type": "code",
   "execution_count": 9,
   "id": "96d8ba85",
   "metadata": {},
   "outputs": [],
   "source": [
    "# initiliazing the varibale h\n",
    "h=symbols('h')"
   ]
  },
  {
   "cell_type": "code",
   "execution_count": 10,
   "id": "4c53f4fe",
   "metadata": {},
   "outputs": [],
   "source": [
    "# creating a definition to compute the function f(x)\n",
    "def f(x):\n",
    "    y=ln(x)/ln(10)\n",
    "    return y"
   ]
  },
  {
   "cell_type": "code",
   "execution_count": 11,
   "id": "a956cf92",
   "metadata": {},
   "outputs": [
    {
     "data": {
      "text/latex": [
       "$\\displaystyle \\frac{1}{\\log{\\left(10 \\right)}}$"
      ],
      "text/plain": [
       "1/log(10)"
      ]
     },
     "execution_count": 11,
     "metadata": {},
     "output_type": "execute_result"
    }
   ],
   "source": [
    "# f'' is max at 1\n",
    "abs(diff(ln(x)/ln(10),x,2)).subs(x,1)"
   ]
  },
  {
   "cell_type": "code",
   "execution_count": 12,
   "id": "dd823f44",
   "metadata": {},
   "outputs": [
    {
     "data": {
      "text/latex": [
       "$\\displaystyle 0.00429193205257869$"
      ],
      "text/plain": [
       "0.00429193205257869"
      ]
     },
     "execution_count": 12,
     "metadata": {},
     "output_type": "execute_result"
    }
   ],
   "source": [
    "# this finds our bound for h.\n",
    "solve((abs(diff(ln(x)/ln(10),x,2)).subs(x,1)*h**2/8)-10**-6,h)[1]\n",
    "# the step size (h) must be smaller than 0.00429193205257869 to ensure that we have an interpolation error of less than 10**-6"
   ]
  },
  {
   "cell_type": "code",
   "execution_count": 13,
   "id": "881a5a93",
   "metadata": {},
   "outputs": [
    {
     "data": {
      "text/plain": [
       "2096.9577080309546"
      ]
     },
     "execution_count": 13,
     "metadata": {},
     "output_type": "execute_result"
    }
   ],
   "source": [
    "9/0.00429193205257869\n"
   ]
  },
  {
   "cell_type": "code",
   "execution_count": 14,
   "id": "5da51778",
   "metadata": {},
   "outputs": [
    {
     "data": {
      "text/plain": [
       "True"
      ]
     },
     "execution_count": 14,
     "metadata": {},
     "output_type": "execute_result"
    }
   ],
   "source": [
    "#choose n=2097\n",
    "9/2097< 0.00429193205257869 #verify answer"
   ]
  },
  {
   "cell_type": "markdown",
   "id": "7c8a0f3d",
   "metadata": {},
   "source": [
    "Thus the h=9/2097 satisfies the criterium h<0.00429193205257869 and includes 10 thus our interpolation errror is less than 10**-6"
   ]
  },
  {
   "cell_type": "markdown",
   "id": "05307303",
   "metadata": {},
   "source": [
    "# 3.5"
   ]
  },
  {
   "cell_type": "markdown",
   "id": "d68787ad",
   "metadata": {},
   "source": [
    "## Question 4(c)"
   ]
  },
  {
   "cell_type": "code",
   "execution_count": 13,
   "id": "23d877d9",
   "metadata": {},
   "outputs": [],
   "source": [
    "# Initializing variables\n",
    "x=symbols('x')\n",
    "a0=symbols('a0')\n",
    "b0=symbols('b0')\n",
    "c0=symbols('c0')\n",
    "d0=symbols('d0')\n",
    "a1=symbols('a1')\n",
    "b1=symbols('b1')\n",
    "c1=symbols('c1')\n",
    "d1=symbols('d1')\n",
    "y=symbols('y')"
   ]
  },
  {
   "cell_type": "code",
   "execution_count": 14,
   "id": "5cf9bed9",
   "metadata": {},
   "outputs": [],
   "source": [
    "# Since we have three points we will have two natural spline equations\n",
    "S0=Eq(a0+b0*(x-0.1)+c0*(x-0.1)**2+d0*(x-0.1)**3,y)\n",
    "S1=Eq(a1+b1*(x-0.2)+c1*(x-0.2)**2+d1*(x-0.2)**3,y)"
   ]
  },
  {
   "cell_type": "code",
   "execution_count": 15,
   "id": "ca108fb0",
   "metadata": {},
   "outputs": [],
   "source": [
    "# first 4 constraints where we compute the equation S0 and S1 at both of its bounds\n",
    "eq1=(S0.subs(x,0.1).subs(y,-0.29004996))\n",
    "eq2=(S0.subs(x,0.2).subs(y,-0.56079734))\n",
    "eq3=(S1.subs(x,0.2).subs(y,-0.56079734))\n",
    "eq4=(S1.subs(x,0.3).subs(y,-0.81401972))"
   ]
  },
  {
   "cell_type": "code",
   "execution_count": 16,
   "id": "2b35ed28",
   "metadata": {},
   "outputs": [],
   "source": [
    "# 2 next constraints the first and second derivative of S0 and S1 must be equal\n",
    "eq5=Eq(diff(a0+b0*(x-0.1)+c0*(x-0.1)**2+d0*(x-0.1)**3,x,1),diff(a1+b1*(x-0.2)+c1*(x-0.2)**2+d1*(x-0.2)**3,x,1)).subs(x,0.2)\n",
    "eq6=Eq(diff(a0+b0*(x-0.1)+c0*(x-0.1)**2+d0*(x-0.1)**3,x,2),diff(a1+b1*(x-0.2)+c1*(x-0.2)**2+d1*(x-0.2)**3,x,2)).subs(x,0.2)"
   ]
  },
  {
   "cell_type": "code",
   "execution_count": 17,
   "id": "161e1ef6",
   "metadata": {},
   "outputs": [],
   "source": [
    "# 2 last constraints The first derivative of S0 and S1 are euqal to 0 since we have Natural Spline\n",
    "eq7=Eq(diff(a0+b0*(x-0.1)+c0*(x-0.1)**2+d0*(x-0.1)**3,x,2).subs(x,0.1),0)\n",
    "eq8=Eq(diff(a1+b1*(x-0.2)+c1*(x-0.2)**2+d1*(x-0.2)**3,x,2).subs(x,0.3),0)"
   ]
  },
  {
   "cell_type": "code",
   "execution_count": 18,
   "id": "0b692eda",
   "metadata": {},
   "outputs": [],
   "source": [
    "# use linsolve to solve for all of our variables\n",
    "solution = linsolve((eq1, eq2, eq3,eq4,eq5,eq6,eq7,eq8), (a0, b0, c0,d0,a1,b1,c1,d1))"
   ]
  },
  {
   "cell_type": "code",
   "execution_count": 19,
   "id": "a2a0057a",
   "metadata": {},
   "outputs": [
    {
     "data": {
      "text/latex": [
       "$\\displaystyle \\left\\{\\left( -0.29004996, \\  -2.7512863, \\  0, \\  4.38125, \\  -0.56079734, \\  -2.6198488, \\  1.314375, \\  -4.38125\\right)\\right\\}$"
      ],
      "text/plain": [
       "{(-0.29004996, -2.7512863, 0, 4.38125, -0.56079734, -2.6198488, 1.314375, -4.38125)}"
      ]
     },
     "execution_count": 19,
     "metadata": {},
     "output_type": "execute_result"
    }
   ],
   "source": [
    "# prints all of our solutions for the coeff starting at a0 and ending at d1\n",
    "solution"
   ]
  },
  {
   "cell_type": "code",
   "execution_count": 22,
   "id": "4e78cd1e",
   "metadata": {},
   "outputs": [
    {
     "data": {
      "text/latex": [
       "$\\displaystyle - 2.7512863 x + 4.38125 \\left(x - 0.1\\right)^{3} - 0.01492133 = y$"
      ],
      "text/plain": [
       "Eq(-2.7512863*x + 4.38125*(x - 0.1)**3 - 0.01492133, y)"
      ]
     },
     "metadata": {},
     "output_type": "display_data"
    },
    {
     "data": {
      "text/latex": [
       "$\\displaystyle - 2.6198488 x - 4.38125 \\left(x - 0.2\\right)^{3} + 1.314375 \\left(x - 0.2\\right)^{2} - 0.03682758 = y$"
      ],
      "text/plain": [
       "Eq(-2.6198488*x - 4.38125*(x - 0.2)**3 + 1.314375*(x - 0.2)**2 - 0.03682758, y)"
      ]
     },
     "metadata": {},
     "output_type": "display_data"
    }
   ],
   "source": [
    "# Displays both of our natural spline equations\n",
    "display(S0.subs([(a0,-0.29004996),(b0,-2.7512863),(c0,0),(d0,4.38125)]),\n",
    "S1.subs([(a1,-0.56079734),(b1,-2.6198488),(c1,1.314375),(d1,-4.38125)]))"
   ]
  },
  {
   "cell_type": "markdown",
   "id": "8b8a7b0e",
   "metadata": {},
   "source": [
    "## Question 13"
   ]
  },
  {
   "cell_type": "code",
   "execution_count": 23,
   "id": "d4ee7721",
   "metadata": {},
   "outputs": [],
   "source": [
    "# initiliazes the variables\n",
    "a,b,c,d=symbols('a b c d')"
   ]
  },
  {
   "cell_type": "code",
   "execution_count": 24,
   "id": "075502b0",
   "metadata": {},
   "outputs": [],
   "source": [
    "# intiliazes our equations once is already solved but the other \n",
    "S0=(3*(x-1)+2*(x-1)**2-(x-1)**3)\n",
    "S1=(a+b*(x-2)+c*(x-2)**2+d*(x-2)**3)"
   ]
  },
  {
   "cell_type": "code",
   "execution_count": 25,
   "id": "326db807",
   "metadata": {},
   "outputs": [],
   "source": [
    "# We find all 4 equations to be able to solve for a,b,c,d\n",
    "eq1=Eq(diff(S1,x,1).subs(x,3),diff(S0,x,1).subs(x,1)) # since we have campled splines S0'=S1'\n",
    "eq2=Eq(S1.subs(x,2),S0.subs(x,2))                     # We know that on the middle bound of x=2 S0=S1\n",
    "eq3=Eq(diff(S0,x,1).subs(x,2),diff(S1,x,1).subs(x,2)) # the first and second derivative on the bound are equal thus at x=2 S0'=S1'\n",
    "eq4=Eq(diff(S0,x,2).subs(x,2),diff(S1,x,2).subs(x,2)) # same as previous S0''=S1'' at x=2"
   ]
  },
  {
   "cell_type": "code",
   "execution_count": 26,
   "id": "82d32688",
   "metadata": {},
   "outputs": [],
   "source": [
    "# using linsolve we find the variables of a,b,c,d\n",
    "solution = linsolve((eq1, eq2, eq3,eq4), (a, b, c,d))"
   ]
  },
  {
   "cell_type": "code",
   "execution_count": 27,
   "id": "5585cbf1",
   "metadata": {},
   "outputs": [
    {
     "data": {
      "text/latex": [
       "$\\displaystyle \\left\\{\\left( 4, \\  4, \\  -1, \\  \\frac{1}{3}\\right)\\right\\}$"
      ],
      "text/plain": [
       "{(4, 4, -1, 1/3)}"
      ]
     },
     "execution_count": 27,
     "metadata": {},
     "output_type": "execute_result"
    }
   ],
   "source": [
    "# prints the values of a,b,c,d in that order\n",
    "solution"
   ]
  },
  {
   "cell_type": "markdown",
   "id": "6b42ae49",
   "metadata": {},
   "source": [
    "## Question 29"
   ]
  },
  {
   "cell_type": "markdown",
   "id": "59e10ceb",
   "metadata": {},
   "source": [
    "clamped cubin spline with interval [x1,x2]\n",
    "\n",
    "S(x1)=f(x1),\n",
    "S(x2)=f(x2),\n",
    "S'(x1)=f'(x1),\n",
    "S'(x2)=f'(x2),\n",
    "becuase we have a cubic polynomial with these 4 equations we can solve to find the values of a,b,c,d for the spline however since they are equal on each equation the cubin polunomial f is its own clamped cubic spline"
   ]
  },
  {
   "cell_type": "markdown",
   "id": "360c2641",
   "metadata": {},
   "source": [
    "Natural cubic spline with interval [x1,x2]"
   ]
  },
  {
   "cell_type": "code",
   "execution_count": 28,
   "id": "a0e6fe50",
   "metadata": {},
   "outputs": [],
   "source": [
    "A,B,C,D,x,x1,x2=symbols('A,B,C,D,x,x1,x2')\n",
    "S=A+B*(x-x1)+C*(x-x1)**2+D*(x-x1)**3"
   ]
  },
  {
   "cell_type": "code",
   "execution_count": 29,
   "id": "d3ed3d7a",
   "metadata": {},
   "outputs": [],
   "source": [
    "S_2=diff(S,x,2)"
   ]
  },
  {
   "cell_type": "code",
   "execution_count": 30,
   "id": "44e1f7dd",
   "metadata": {},
   "outputs": [
    {
     "data": {
      "text/latex": [
       "$\\displaystyle 2 C = 0$"
      ],
      "text/plain": [
       "Eq(2*C, 0)"
      ]
     },
     "execution_count": 30,
     "metadata": {},
     "output_type": "execute_result"
    }
   ],
   "source": [
    "Eq(S_2.subs(x,x1),0) #This gives C=0"
   ]
  },
  {
   "cell_type": "code",
   "execution_count": 31,
   "id": "6e23a6b2",
   "metadata": {},
   "outputs": [
    {
     "data": {
      "text/latex": [
       "$\\displaystyle 6 D \\left(- x_{1} + x_{2}\\right) = 0$"
      ],
      "text/plain": [
       "Eq(6*D*(-x1 + x2), 0)"
      ]
     },
     "execution_count": 31,
     "metadata": {},
     "output_type": "execute_result"
    }
   ],
   "source": [
    "Eq(S_2.subs(x,x2).subs(C,0),0) #for this equation to be true either x2-x1=0 which would mean that our two points\n",
    "# are the same or D=0 "
   ]
  },
  {
   "cell_type": "markdown",
   "id": "f766369b",
   "metadata": {},
   "source": [
    "Thus if C=0 and D=0 f is not a cubic polynomial but a linear equation "
   ]
  },
  {
   "cell_type": "markdown",
   "id": "d950ce94",
   "metadata": {},
   "source": [
    "In conclusion if f(x) is a cubic polynomial then f(x) can be its own clamped spline but cannot be its own natural spline"
   ]
  },
  {
   "cell_type": "code",
   "execution_count": 4,
   "id": "9a7f8440",
   "metadata": {},
   "outputs": [],
   "source": [
    "a0,b0,c0,d0,a1,b1,c1,d1=symbols('a0 b0 c0 d0 a1 b1 c1 d1')"
   ]
  },
  {
   "cell_type": "code",
   "execution_count": 23,
   "id": "75dfb241",
   "metadata": {},
   "outputs": [],
   "source": [
    "EQ1=Eq(a0,2)\n",
    "EQ2=Eq(a0+b0+c0+d0,3)\n",
    "EQ3=Eq(a1,3)\n",
    "EQ4=Eq(a1+b1+c1+d1,5)\n",
    "EQ5=Eq(b0+2*c0+3*d0,b1)\n",
    "EQ6=Eq(2*c0+6*d0,2*c1)\n",
    "EQ7=Eq(b0,2)\n",
    "EQ8=Eq(b1+2*c1+3*d1,1)"
   ]
  },
  {
   "cell_type": "code",
   "execution_count": 24,
   "id": "37fe7441",
   "metadata": {},
   "outputs": [],
   "source": [
    "solution = linsolve((EQ1,EQ2,EQ3,EQ4,EQ5,EQ6,EQ7,EQ8), (a0, b0, c0,d0,a1,b1,c1,d1))"
   ]
  },
  {
   "cell_type": "code",
   "execution_count": 25,
   "id": "43baaf00",
   "metadata": {},
   "outputs": [
    {
     "data": {
      "text/latex": [
       "$\\displaystyle \\left\\{\\left( 2, \\  2, \\  - \\frac{5}{2}, \\  \\frac{3}{2}, \\  3, \\  \\frac{3}{2}, \\  2, \\  - \\frac{3}{2}\\right)\\right\\}$"
      ],
      "text/plain": [
       "{(2, 2, -5/2, 3/2, 3, 3/2, 2, -3/2)}"
      ]
     },
     "execution_count": 25,
     "metadata": {},
     "output_type": "execute_result"
    }
   ],
   "source": [
    "solution"
   ]
  },
  {
   "cell_type": "code",
   "execution_count": null,
   "id": "3df7a637",
   "metadata": {},
   "outputs": [],
   "source": []
  }
 ],
 "metadata": {
  "kernelspec": {
   "display_name": "Box",
   "language": "python",
   "name": "python3"
  },
  "language_info": {
   "codemirror_mode": {
    "name": "ipython",
    "version": 3
   },
   "file_extension": ".py",
   "mimetype": "text/x-python",
   "name": "python",
   "nbconvert_exporter": "python",
   "pygments_lexer": "ipython3",
   "version": "3.13.7"
  }
 },
 "nbformat": 4,
 "nbformat_minor": 5
}
