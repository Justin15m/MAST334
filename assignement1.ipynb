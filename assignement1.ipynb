{
 "cells": [
  {
   "cell_type": "code",
   "execution_count": 1,
   "id": "cacf3ccb",
   "metadata": {},
   "outputs": [],
   "source": [
    "# importing the required packages for the assignement\n",
    "\n",
    "from sympy.solvers import solve\n",
    "from sympy import symbols, diff, exp, Eq, series,simplify, integrate\n",
    "from sympy.solvers.solveset import linsolve\n",
    "import math"
   ]
  },
  {
   "cell_type": "code",
   "execution_count": 2,
   "id": "ffc4d548",
   "metadata": {},
   "outputs": [
    {
     "data": {
      "text/plain": [
       "[-2*LambertW(-1/4), -2*LambertW(1/4), -2*LambertW(-1/4, -1)]"
      ]
     },
     "execution_count": 2,
     "metadata": {},
     "output_type": "execute_result"
    }
   ],
   "source": [
    "x=symbols('x')\n",
    "solve(Eq(4*x**2-exp(x),0))"
   ]
  },
  {
   "cell_type": "code",
   "execution_count": 5,
   "id": "4683b1db",
   "metadata": {},
   "outputs": [
    {
     "data": {
      "text/latex": [
       "$\\displaystyle x + x^{3} + O\\left(x^{5}\\right)$"
      ],
      "text/plain": [
       "x + x**3 + O(x**5)"
      ]
     },
     "execution_count": 5,
     "metadata": {},
     "output_type": "execute_result"
    }
   ],
   "source": [
    "series(x*exp(x**2),x,0,5)"
   ]
  },
  {
   "cell_type": "code",
   "execution_count": 7,
   "id": "2d1faeb7",
   "metadata": {},
   "outputs": [
    {
     "data": {
      "text/latex": [
       "$\\displaystyle 4 \\left(20 x^{4} + 2 x^{2} \\left(4 x^{4} + 20 x^{2} + 15\\right) + 60 x^{2} + 15\\right) e^{x^{2}}$"
      ],
      "text/plain": [
       "4*(20*x**4 + 2*x**2*(4*x**4 + 20*x**2 + 15) + 60*x**2 + 15)*exp(x**2)"
      ]
     },
     "execution_count": 7,
     "metadata": {},
     "output_type": "execute_result"
    }
   ],
   "source": [
    "diff(x*exp(x**2),x,5)"
   ]
  },
  {
   "cell_type": "code",
   "execution_count": 6,
   "id": "e46b3fc9",
   "metadata": {},
   "outputs": [
    {
     "data": {
      "text/latex": [
       "$\\displaystyle 145.368743636893$"
      ],
      "text/plain": [
       "145.368743636893"
      ]
     },
     "execution_count": 6,
     "metadata": {},
     "output_type": "execute_result"
    }
   ],
   "source": [
    "simplify(diff(x*exp(x**2),x,5)).subs(x,0.4)"
   ]
  },
  {
   "cell_type": "code",
   "execution_count": 25,
   "id": "21778ae1",
   "metadata": {},
   "outputs": [],
   "source": [
    "F=x*exp(x**2)\n",
    "P=x+x**3"
   ]
  },
  {
   "cell_type": "code",
   "execution_count": 26,
   "id": "8c9fbd2d",
   "metadata": {},
   "outputs": [],
   "source": [
    "equation1=abs(F-P)"
   ]
  },
  {
   "cell_type": "code",
   "execution_count": 31,
   "id": "54fd16b4",
   "metadata": {},
   "outputs": [
    {
     "data": {
      "text/latex": [
       "$\\displaystyle 0.0054043483967241$"
      ],
      "text/plain": [
       "0.00540434839672410"
      ]
     },
     "execution_count": 31,
     "metadata": {},
     "output_type": "execute_result"
    }
   ],
   "source": [
    "equation1.subs(x,0.4)"
   ]
  },
  {
   "cell_type": "code",
   "execution_count": 28,
   "id": "e1c9215d",
   "metadata": {},
   "outputs": [
    {
     "data": {
      "text/latex": [
       "$\\displaystyle \\left|{x^{3} - x e^{x^{2}} + x}\\right|$"
      ],
      "text/plain": [
       "Abs(x**3 - x*exp(x**2) + x)"
      ]
     },
     "execution_count": 28,
     "metadata": {},
     "output_type": "execute_result"
    }
   ],
   "source": [
    "equation1"
   ]
  },
  {
   "cell_type": "code",
   "execution_count": 35,
   "id": "533ab021",
   "metadata": {},
   "outputs": [
    {
     "data": {
      "text/latex": [
       "$\\displaystyle \\frac{e^{x^{2}}}{2}$"
      ],
      "text/plain": [
       "exp(x**2)/2"
      ]
     },
     "execution_count": 35,
     "metadata": {},
     "output_type": "execute_result"
    }
   ],
   "source": [
    "integrate(F,x)"
   ]
  },
  {
   "cell_type": "code",
   "execution_count": 53,
   "id": "ffcbea4d",
   "metadata": {},
   "outputs": [],
   "source": [
    "Equation2=x**5/math.factorial(5)*abs(((diff(x*exp(x**2),x,5)))).subs(x,0.4)"
   ]
  },
  {
   "cell_type": "code",
   "execution_count": 54,
   "id": "8d3ea6d9",
   "metadata": {},
   "outputs": [
    {
     "data": {
      "text/latex": [
       "$\\displaystyle 0.00082698663046766$"
      ],
      "text/plain": [
       "0.000826986630467660"
      ]
     },
     "execution_count": 54,
     "metadata": {},
     "output_type": "execute_result"
    }
   ],
   "source": [
    "integrate(Equation2,(x,0,0.4))"
   ]
  },
  {
   "cell_type": "code",
   "execution_count": 56,
   "id": "1842f317",
   "metadata": {},
   "outputs": [
    {
     "data": {
      "text/latex": [
       "$\\displaystyle 1 + x + \\frac{x^{2}}{2} + \\frac{x^{3}}{6} + O\\left(x^{4}\\right)$"
      ],
      "text/plain": [
       "1 + x + x**2/2 + x**3/6 + O(x**4)"
      ]
     },
     "execution_count": 56,
     "metadata": {},
     "output_type": "execute_result"
    }
   ],
   "source": [
    "series(exp(x),x,0,4)"
   ]
  },
  {
   "cell_type": "code",
   "execution_count": 65,
   "id": "9ca23071",
   "metadata": {},
   "outputs": [
    {
     "data": {
      "text/latex": [
       "$\\displaystyle 1$"
      ],
      "text/plain": [
       "1"
      ]
     },
     "metadata": {},
     "output_type": "display_data"
    },
    {
     "data": {
      "text/plain": [
       "1.7320508075688772"
      ]
     },
     "metadata": {},
     "output_type": "display_data"
    },
    {
     "data": {
      "text/latex": [
       "$\\displaystyle 2.29$"
      ],
      "text/plain": [
       "2.29000000000000"
      ]
     },
     "metadata": {},
     "output_type": "display_data"
    }
   ],
   "source": [
    "F=x**2-3\n",
    "display(F.subs(x,2),3**(1/2),F.subs(x,2.3))"
   ]
  },
  {
   "cell_type": "code",
   "execution_count": 80,
   "id": "fc37e9f6",
   "metadata": {},
   "outputs": [],
   "source": [
    "a=F.subs(x,2)\n",
    "b=F.subs(x,2.3)\n",
    "tol=1\n",
    "while abs(tol)>10**-4:\n",
    "    p=(a+b)/2\n",
    "    if F.subs(x,p)>3**(1/2):\n",
    "        tol=b-p\n",
    "        b=p\n",
    "    if F.subs(x,p)<3**(1/2):\n",
    "        tol=a-p\n",
    "        a=p"
   ]
  }
 ],
 "metadata": {
  "kernelspec": {
   "display_name": ".venv",
   "language": "python",
   "name": "python3"
  },
  "language_info": {
   "codemirror_mode": {
    "name": "ipython",
    "version": 3
   },
   "file_extension": ".py",
   "mimetype": "text/x-python",
   "name": "python",
   "nbconvert_exporter": "python",
   "pygments_lexer": "ipython3",
   "version": "3.13.7"
  }
 },
 "nbformat": 4,
 "nbformat_minor": 5
}
