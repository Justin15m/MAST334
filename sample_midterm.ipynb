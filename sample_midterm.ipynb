{
 "cells": [
  {
   "cell_type": "code",
   "execution_count": 3,
   "id": "a099ae0c",
   "metadata": {},
   "outputs": [],
   "source": [
    "# importing the required packages for the assignement\n",
    "\n",
    "from sympy.solvers import solve\n",
    "from sympy import symbols, diff, exp, Eq, series,simplify, integrate, ln, cos, sin, pi\n",
    "from sympy.solvers.solveset import linsolve\n",
    "import math\n",
    "import matplotlib.pyplot as plt\n",
    "import numpy as np"
   ]
  },
  {
   "cell_type": "code",
   "execution_count": 5,
   "id": "448a02cd",
   "metadata": {},
   "outputs": [],
   "source": [
    "x=symbols('x')"
   ]
  },
  {
   "cell_type": "code",
   "execution_count": 16,
   "id": "bf35a607",
   "metadata": {},
   "outputs": [],
   "source": [
    "f=integrate((sin(pi*x))**2,(x,1/4,x))"
   ]
  },
  {
   "cell_type": "code",
   "execution_count": 17,
   "id": "8fe84c0e",
   "metadata": {},
   "outputs": [
    {
     "data": {
      "text/latex": [
       "$\\displaystyle - \\frac{- \\frac{1}{4} + 0.125 \\pi}{\\pi} - \\frac{1}{4 \\pi} + 0.5 \\pi \\left(x - 0.25\\right)^{2} + \\frac{x}{2} + O\\left(\\left(x - \\frac{1}{4}\\right)^{3}; x\\rightarrow \\frac{1}{4}\\right)$"
      ],
      "text/plain": [
       "-(-1/4 + 0.125*pi)/pi - 1/(4*pi) + 0.5*pi*(x - 0.25)**2 + x/2 + O((x - 1/4)**3, (x, 1/4))"
      ]
     },
     "execution_count": 17,
     "metadata": {},
     "output_type": "execute_result"
    }
   ],
   "source": [
    "series(f,x,1/4,3)"
   ]
  },
  {
   "cell_type": "code",
   "execution_count": 18,
   "id": "9ac4e7c3",
   "metadata": {},
   "outputs": [
    {
     "data": {
      "text/latex": [
       "$\\displaystyle \\frac{\\frac{\\pi \\sin^{2}{\\left(\\pi x \\right)}}{2} - \\frac{\\pi \\cos^{2}{\\left(\\pi x \\right)}}{2} + \\frac{\\pi}{2}}{\\pi}$"
      ],
      "text/plain": [
       "(pi*sin(pi*x)**2/2 - pi*cos(pi*x)**2/2 + pi/2)/pi"
      ]
     },
     "execution_count": 18,
     "metadata": {},
     "output_type": "execute_result"
    }
   ],
   "source": [
    "diff(f,x,1)"
   ]
  },
  {
   "cell_type": "code",
   "execution_count": 19,
   "id": "359324a7",
   "metadata": {},
   "outputs": [
    {
     "data": {
      "text/latex": [
       "$\\displaystyle \\frac{\\frac{\\pi x}{2} - \\frac{\\sin{\\left(\\pi x \\right)} \\cos{\\left(\\pi x \\right)}}{2}}{\\pi} - \\frac{- \\frac{1}{4} + 0.125 \\pi}{\\pi}$"
      ],
      "text/plain": [
       "(pi*x/2 - sin(pi*x)*cos(pi*x)/2)/pi - (-1/4 + 0.125*pi)/pi"
      ]
     },
     "execution_count": 19,
     "metadata": {},
     "output_type": "execute_result"
    }
   ],
   "source": [
    "f"
   ]
  },
  {
   "cell_type": "code",
   "execution_count": null,
   "id": "e0ede386",
   "metadata": {},
   "outputs": [],
   "source": []
  }
 ],
 "metadata": {
  "kernelspec": {
   "display_name": ".venv",
   "language": "python",
   "name": "python3"
  },
  "language_info": {
   "codemirror_mode": {
    "name": "ipython",
    "version": 3
   },
   "file_extension": ".py",
   "mimetype": "text/x-python",
   "name": "python",
   "nbconvert_exporter": "python",
   "pygments_lexer": "ipython3",
   "version": "3.13.7"
  }
 },
 "nbformat": 4,
 "nbformat_minor": 5
}
