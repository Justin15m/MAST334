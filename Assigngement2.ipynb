{
 "cells": [
  {
   "cell_type": "code",
   "execution_count": 5,
   "id": "96a7f47b",
   "metadata": {},
   "outputs": [],
   "source": [
    "# importing the required packages for the assignement\n",
    "\n",
    "from sympy.solvers import solve\n",
    "from sympy import symbols, diff, exp, Eq, series,simplify, integrate, ln, cos, sin\n",
    "from sympy.solvers.solveset import linsolve\n",
    "import math\n",
    "import matplotlib.pyplot as plt\n",
    "import numpy as np"
   ]
  },
  {
   "cell_type": "markdown",
   "id": "67dd42b8",
   "metadata": {},
   "source": [
    "# Chapter 2.2 "
   ]
  },
  {
   "cell_type": "markdown",
   "id": "ee9ea696",
   "metadata": {},
   "source": [
    "## Question 6"
   ]
  },
  {
   "cell_type": "code",
   "execution_count": null,
   "id": "0f3576bc",
   "metadata": {},
   "outputs": [],
   "source": [
    "#d"
   ]
  },
  {
   "cell_type": "code",
   "execution_count": 51,
   "id": "0fbdf09c",
   "metadata": {},
   "outputs": [
    {
     "name": "stdout",
     "output_type": "stream",
     "text": [
      "1.475821937641962 1.475821937641962 9.873966273454826e-05 259\n"
     ]
    }
   ],
   "source": [
    "    p1=2\n",
    "    p0=1\n",
    "    n=0\n",
    "    tol=1\n",
    "    while abs(tol)>=10**-4:\n",
    "        p1=(p0-((p0**5-7)/(12)))\n",
    "        tol=p1-p0\n",
    "        p0=p1\n",
    "        n+=1\n",
    "    print(p0,p1,tol,n)"
   ]
  },
  {
   "cell_type": "code",
   "execution_count": 54,
   "id": "1961e0af",
   "metadata": {},
   "outputs": [],
   "source": [
    "#C"
   ]
  },
  {
   "cell_type": "code",
   "execution_count": null,
   "id": "ff33c95f",
   "metadata": {},
   "outputs": [
    {
     "name": "stdout",
     "output_type": "stream",
     "text": [
      "1.4757731615945617 1.4757731615945617 -8.418204666682527e-08 7\n"
     ]
    }
   ],
   "source": [
    "    p1=2\n",
    "    p0=1\n",
    "    n=0\n",
    "    tol=1\n",
    "    while abs(tol)>=10**-4:\n",
    "        p1=(p0-((p0**5-7)/(5*p0**4)))\n",
    "        tol=p1-p0\n",
    "        p0=p1\n",
    "        n+=1\n",
    "    print(p0,p1,tol,n)"
   ]
  },
  {
   "cell_type": "markdown",
   "id": "071c1535",
   "metadata": {},
   "source": [
    "## Question 10"
   ]
  },
  {
   "cell_type": "code",
   "execution_count": 55,
   "id": "43c331d6",
   "metadata": {},
   "outputs": [],
   "source": [
    "x=symbols('x')"
   ]
  },
  {
   "cell_type": "code",
   "execution_count": null,
   "id": "d33fa8ba",
   "metadata": {},
   "outputs": [
    {
     "data": {
      "text/latex": [
       "$\\displaystyle - 2^{- x} \\log{\\left(2 \\right)}$"
      ],
      "text/plain": [
       "-log(2)/2**x"
      ]
     },
     "execution_count": 56,
     "metadata": {},
     "output_type": "execute_result"
    }
   ],
   "source": [
    "diff(2**(-x)) # continous for all x"
   ]
  },
  {
   "cell_type": "code",
   "execution_count": null,
   "id": "e28e7915",
   "metadata": {},
   "outputs": [
    {
     "data": {
      "text/plain": [
       "[]"
      ]
     },
     "execution_count": 59,
     "metadata": {},
     "output_type": "execute_result"
    }
   ],
   "source": [
    "solve(-2**(-x)*log(2),0) # always decreasing function thus minimum occurs at 1 and maximum at 1/3"
   ]
  },
  {
   "cell_type": "code",
   "execution_count": 68,
   "id": "02bb70f7",
   "metadata": {},
   "outputs": [
    {
     "data": {
      "text/latex": [
       "$\\displaystyle - 0.7937005259841 \\log{\\left(2 \\right)}$"
      ],
      "text/plain": [
       "-0.7937005259841*log(2)"
      ]
     },
     "execution_count": 68,
     "metadata": {},
     "output_type": "execute_result"
    }
   ],
   "source": [
    "-2**(-1/3)*ln(2)"
   ]
  },
  {
   "cell_type": "code",
   "execution_count": null,
   "id": "39c2c0b2",
   "metadata": {},
   "outputs": [],
   "source": [
    "since 1/3 is less than 1 theorem 1.3 is satisfied"
   ]
  },
  {
   "cell_type": "code",
   "execution_count": 65,
   "id": "20fa0af7",
   "metadata": {},
   "outputs": [
    {
     "name": "stdout",
     "output_type": "stream",
     "text": [
      "0.6411661053686456 0.6411661053686456 -6.382870039900457e-05 12\n"
     ]
    }
   ],
   "source": [
    "    p1=2\n",
    "    p0=1/3\n",
    "    n=0\n",
    "    tol=1\n",
    "    while abs(tol)>=10**-4:\n",
    "        p1=(2**(-p0))\n",
    "        tol=p1-p0\n",
    "        p0=p1\n",
    "        n+=1\n",
    "    print(p0,p1,tol,n)"
   ]
  },
  {
   "cell_type": "code",
   "execution_count": null,
   "id": "1e67cd9e",
   "metadata": {},
   "outputs": [],
   "source": [
    "k=2**(-1/3)*ln(2)\n",
    "tol=10**-4\n",
    "solve(k**n(1-k)\n",
    "\n",
    "    "
   ]
  },
  {
   "cell_type": "markdown",
   "id": "7b6f6905",
   "metadata": {},
   "source": [
    "# Chapter 2.3"
   ]
  },
  {
   "cell_type": "code",
   "execution_count": null,
   "id": "e7bcc2f6",
   "metadata": {},
   "outputs": [],
   "source": [
    "# Question 6 b"
   ]
  },
  {
   "cell_type": "code",
   "execution_count": 79,
   "id": "4602ed7c",
   "metadata": {},
   "outputs": [
    {
     "data": {
      "text/latex": [
       "$\\displaystyle \\cos{\\left(1 \\right)}$"
      ],
      "text/plain": [
       "cos(1)"
      ]
     },
     "execution_count": 79,
     "metadata": {},
     "output_type": "execute_result"
    }
   ],
   "source": [
    "ln(2 -1) + cos(2 - 1)"
   ]
  },
  {
   "cell_type": "code",
   "execution_count": 12,
   "id": "4b691fca",
   "metadata": {},
   "outputs": [
    {
     "data": {
      "text/plain": [
       "[<matplotlib.lines.Line2D at 0x160c9732490>]"
      ]
     },
     "execution_count": 12,
     "metadata": {},
     "output_type": "execute_result"
    },
    {
     "data": {
      "image/png": "[encoded data removed]",
      "text/plain": [
       "<Figure size 640x480 with 1 Axes>"
      ]
     },
     "metadata": {},
     "output_type": "display_data"
    }
   ],
   "source": [
    "x = np.linspace(1.01, 10, 1000)\n",
    "y=np.log(x -1) + np.cos(x - 1)\n",
    "plt.plot(x,y)"
   ]
  },
  {
   "cell_type": "code",
   "execution_count": 20,
   "id": "334a5247",
   "metadata": {},
   "outputs": [],
   "source": [
    "p1=0\n",
    "p0=1.5\n",
    "tol=1\n",
    "n=0\n",
    "while abs(tol) >=10**-5:\n",
    "    p1=p0-(ln(p0-1) + cos(p0 - 1) )/(-sin(p0-1)+1/(p0-1))\n",
    "    tol=p1-p0\n",
    "    p0=p1\n",
    "    n=+1"
   ]
  },
  {
   "cell_type": "code",
   "execution_count": 21,
   "id": "0a717805",
   "metadata": {},
   "outputs": [
    {
     "data": {
      "text/plain": [
       "1"
      ]
     },
     "execution_count": 21,
     "metadata": {},
     "output_type": "execute_result"
    }
   ],
   "source": [
    "n"
   ]
  },
  {
   "cell_type": "code",
   "execution_count": 24,
   "id": "66076303",
   "metadata": {},
   "outputs": [],
   "source": [
    "p2=0\n",
    "p1=1.45\n",
    "p0=1.5\n",
    "tol=1\n",
    "n=0\n",
    "while abs(tol) >=10**-5:\n",
    "    p2=p1-(ln(p1-1) + cos(p1 - 1) )*(p1-p0)/(ln(p1-1) + cos(p1 - 1)-(ln(p0-1) + cos(p0 - 1)))\n",
    "    tol=p2-p1\n",
    "    p0=p1\n",
    "    p1=p2\n",
    "    n=+1"
   ]
  },
  {
   "cell_type": "code",
   "execution_count": null,
   "id": "bd9f2909",
   "metadata": {},
   "outputs": [
    {
     "data": {
      "text/latex": [
       "$\\displaystyle 1.39774847595923$"
      ],
      "text/plain": [
       "1.39774847595923"
      ]
     },
     "execution_count": 26,
     "metadata": {},
     "output_type": "execute_result"
    }
   ],
   "source": [
    "p1"
   ]
  },
  {
   "cell_type": "code",
   "execution_count": null,
   "id": "f334c2d0",
   "metadata": {},
   "outputs": [],
   "source": []
  }
 ],
 "metadata": {
  "kernelspec": {
   "display_name": ".venv",
   "language": "python",
   "name": "python3"
  },
  "language_info": {
   "codemirror_mode": {
    "name": "ipython",
    "version": 3
   },
   "file_extension": ".py",
   "mimetype": "text/x-python",
   "name": "python",
   "nbconvert_exporter": "python",
   "pygments_lexer": "ipython3",
   "version": "3.13.7"
  }
 },
 "nbformat": 4,
 "nbformat_minor": 5
}
